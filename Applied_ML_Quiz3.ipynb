{
 "cells": [
  {
   "cell_type": "markdown",
   "metadata": {},
   "source": [
    "### Q5"
   ]
  },
  {
   "cell_type": "code",
   "execution_count": null,
   "metadata": {},
   "outputs": [],
   "source": [
    "y_scores_lr = m.decision_function(X_test)\n",
    "precision, recall, threshold = precision_recall_curve(y_test, y_scores_lr)\n",
    "print(len(precision))\n",
    "\n",
    "for i in list(zip(precision, recall)):\n",
    "  if (i[1] >0.77) & (i[1] <0.83): print(i)\n",
    "\n",
    "plt.figure()\n",
    "plt.xlim([0.0, 1.01])\n",
    "plt.ylim([0.0, 1.01])\n",
    "plt.plot(precision, recall, label='Precision-Recall Curve')\n",
    "# plt.show()"
   ]
  },
  {
   "cell_type": "markdown",
   "metadata": {},
   "source": [
    "### Q8"
   ]
  },
  {
   "cell_type": "code",
   "execution_count": null,
   "metadata": {},
   "outputs": [],
   "source": [
    "y_pred = m.predict(X_test)\n",
    "precision_score(y_test, y_pred, average = 'macro')"
   ]
  },
  {
   "cell_type": "markdown",
   "metadata": {},
   "source": [
    "### Q13"
   ]
  },
  {
   "cell_type": "code",
   "execution_count": null,
   "metadata": {},
   "outputs": [],
   "source": [
    "grid_values = {'gamma': [0.01, 0.1, 1, 10], 'C': [0.01, 0.1, 1, 10]}\n",
    "\n",
    "# default metric to optimize over grid parameters: Precision\n",
    "grid_clf_rec = GridSearchCV(m, param_grid = grid_values, scoring='recall')\n",
    "grid_clf_rec.fit(X_train, y_train)\n",
    "\n",
    "print('Grid best parameter (max. recall): ', grid_clf_rec.best_params_)\n",
    "print('Grid best score (recall): ', grid_clf_rec.best_score_)\n",
    "\n",
    "# SVC with best parameters\n",
    "# clf = SVC(C = 0.01, gamma = 0.01, kernel='rbf')\n",
    "\n",
    "# Prediciont with the best parameters\n",
    "y_pred = grid_clf_rec.predict(X_test)\n",
    "\n",
    "# Get scores\n",
    "from sklearn.metrics import precision_score, recall_score, classification_report\n",
    "\n",
    "print('Precision: {:.4f}'.format(precision_score(y_test, y_pred)))\n",
    "print('Recall: {:.4f}'.format(recall_score(y_test, y_pred)))\n",
    "print(classification_report(y_test, y_pred))\n",
    "\n",
    "print('Diff in recall and precision scores: ', recall_score(y_test, y_pred) - precision_score(y_test, y_pred))\n"
   ]
  },
  {
   "cell_type": "markdown",
   "metadata": {},
   "source": [
    "### Q14"
   ]
  },
  {
   "cell_type": "code",
   "execution_count": null,
   "metadata": {},
   "outputs": [],
   "source": [
    "# m = SVC(C=1.0, cache_size=200, class_weight=None, coef0=0.0,\n",
    "#   decision_function_shape=None, degree=3, gamma='auto', kernel='rbf',\n",
    "#   max_iter=-1, probability=False, random_state=0, shrinking=True,\n",
    "#   tol=0.001, verbose=False)\n",
    "\n",
    "grid_values = {'gamma': [0.01, 0.1, 1, 10], 'C': [0.01, 0.1, 1, 10]}\n",
    "\n",
    "# default metric to optimize over grid parameters: Precision\n",
    "grid_clf = GridSearchCV(m, param_grid = grid_values, scoring='precision')\n",
    "grid_clf.fit(X_train, y_train)\n",
    "\n",
    "print('Grid best parameter (max. recall): ', grid_clf.best_params_)\n",
    "print('Grid best score (recall): ', grid_clf.best_score_)\n",
    "\n",
    "\n",
    "# Prediciont with the best parameters\n",
    "y_pred = grid_clf.predict(X_test)\n",
    "\n",
    "# Get scores\n",
    "from sklearn.metrics import precision_score, recall_score, classification_report\n",
    "\n",
    "print('Precision: {:.4f}'.format(precision_score(y_test, y_pred)))\n",
    "print('Recall: {:.4f}'.format(recall_score(y_test, y_pred)))\n",
    "print(classification_report(y_test, y_pred))\n",
    "\n",
    "print('Diff in recall and precision scores: ', precision_score(y_test, y_pred) - recall_score(y_test, y_pred))"
   ]
  }
 ],
 "metadata": {
  "kernelspec": {
   "display_name": "Python 3",
   "language": "python",
   "name": "python3"
  },
  "language_info": {
   "codemirror_mode": {
    "name": "ipython",
    "version": 3
   },
   "file_extension": ".py",
   "mimetype": "text/x-python",
   "name": "python",
   "nbconvert_exporter": "python",
   "pygments_lexer": "ipython3",
   "version": "3.6.4"
  }
 },
 "nbformat": 4,
 "nbformat_minor": 2
}
